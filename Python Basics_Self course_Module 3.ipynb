{
 "cells": [
  {
   "cell_type": "markdown",
   "metadata": {},
   "source": [
    "## CONTROL STATEMENTS"
   ]
  },
  {
   "cell_type": "code",
   "execution_count": 17,
   "metadata": {},
   "outputs": [
    {
     "name": "stdout",
     "output_type": "stream",
     "text": [
      "21 and 21 are equal\n"
     ]
    }
   ],
   "source": [
    "# If, elif, else\n",
    "\n",
    "a = 21\n",
    "b = 21\n",
    "\n",
    "if a>b:\n",
    "    print(f\"{a} is greater than {b}\")\n",
    "elif b>a:\n",
    "    print(f\"{b} is greater than {a}\")\n",
    "else:\n",
    "    print(f\"{a} and {b} are equal\")\n"
   ]
  },
  {
   "cell_type": "code",
   "execution_count": 19,
   "metadata": {},
   "outputs": [
    {
     "name": "stdout",
     "output_type": "stream",
     "text": [
      "21 and 21 are equal\n"
     ]
    }
   ],
   "source": [
    "#Above code in one line\n",
    "print(f\"{a} is greater than {b}\") if a>b else print(f\"{b} is greater than {a}\") if b>a else print(f\"{a} and {b} are equal\")"
   ]
  },
  {
   "cell_type": "code",
   "execution_count": 15,
   "metadata": {},
   "outputs": [
    {
     "name": "stdout",
     "output_type": "stream",
     "text": [
      "Required output not received \n"
     ]
    }
   ],
   "source": [
    "if a>b:\n",
    "    print(f\"{a} is grater than {b}\")\n",
    "else:\n",
    "    print(\"Required output not received \")"
   ]
  },
  {
   "cell_type": "code",
   "execution_count": null,
   "metadata": {},
   "outputs": [],
   "source": [
    "# and , or"
   ]
  },
  {
   "cell_type": "code",
   "execution_count": 1,
   "metadata": {},
   "outputs": [],
   "source": [
    "c = 10\n",
    "d = 13\n",
    "e = 15"
   ]
  },
  {
   "cell_type": "code",
   "execution_count": 2,
   "metadata": {},
   "outputs": [
    {
     "name": "stdout",
     "output_type": "stream",
     "text": [
      "Atleast one or more of the condition is not fulfilled\n"
     ]
    }
   ],
   "source": [
    "if c>d and e>c:\n",
    "    print(\"Both conditions fulfilled\")\n",
    "else:\n",
    "    print(\"Atleast one or more of the condition is not fulfilled\")"
   ]
  },
  {
   "cell_type": "code",
   "execution_count": 5,
   "metadata": {},
   "outputs": [
    {
     "name": "stdout",
     "output_type": "stream",
     "text": [
      "Atleast one condition fulfilled\n"
     ]
    }
   ],
   "source": [
    "if c>d or e>d:\n",
    "    print(\"Atleast one condition fulfilled\")\n",
    "else:\n",
    "    print(\"Atleast one or more of the condition is not fulfilled\")"
   ]
  },
  {
   "cell_type": "code",
   "execution_count": 11,
   "metadata": {},
   "outputs": [],
   "source": [
    "# Nested if\n",
    "maths = 65\n",
    "economics = 59\n",
    "stats = 35"
   ]
  },
  {
   "cell_type": "code",
   "execution_count": 12,
   "metadata": {},
   "outputs": [
    {
     "name": "stdout",
     "output_type": "stream",
     "text": [
      "Exam Passed\n",
      "Congrats, exam passed with first class\n"
     ]
    }
   ],
   "source": [
    "if maths>=40:\n",
    "    print(\"Exam Passed\")\n",
    "    if maths>=60:\n",
    "        print(\"Congrats, exam passed with first class\")\n",
    "    else:\n",
    "        print(\"Sorry, first class not received\")"
   ]
  },
  {
   "cell_type": "code",
   "execution_count": 9,
   "metadata": {},
   "outputs": [
    {
     "name": "stdout",
     "output_type": "stream",
     "text": [
      "Exam Passed\n",
      "Sorry, first class not received\n"
     ]
    }
   ],
   "source": [
    "if economics>40:\n",
    "    print(\"Exam Passed\")\n",
    "    if economics>=60:\n",
    "        print(\"Congrats, exam passed with first class\")\n",
    "    else:\n",
    "        print(\"Sorry, first class not received\")"
   ]
  },
  {
   "cell_type": "code",
   "execution_count": 10,
   "metadata": {},
   "outputs": [
    {
     "name": "stdout",
     "output_type": "stream",
     "text": [
      "Sory, exam not passed.\n"
     ]
    }
   ],
   "source": [
    "if stats>40:\n",
    "    print(\"Exam Passed\")\n",
    "    if stats>=60:\n",
    "        print(\"Congrats, exam passed with first class\")\n",
    "    else:\n",
    "            print(\"Sorry, first class not received\")\n",
    "else:\n",
    "    print(\"Sory, exam not passed.\")"
   ]
  },
  {
   "cell_type": "code",
   "execution_count": 14,
   "metadata": {},
   "outputs": [],
   "source": [
    "# The above program can be done with less computation using the concept of functions\n",
    "\n",
    "def marks_check(marks):\n",
    "    if marks>40:\n",
    "        print(\"Exam Passed\")\n",
    "        if marks>=60:\n",
    "            print(\"Congrats, exam passed with first class\")\n",
    "        else:\n",
    "            print(\"Sorry, first class not received\")\n",
    "    else:\n",
    "         print(\"Sory, exam not passed.\")"
   ]
  },
  {
   "cell_type": "code",
   "execution_count": 19,
   "metadata": {},
   "outputs": [
    {
     "name": "stdout",
     "output_type": "stream",
     "text": [
      "Exam Passed\n",
      "Congrats, exam passed with first class\n",
      "None\n",
      "Exam Passed\n",
      "Sorry, first class not received\n",
      "None\n",
      "Sory, exam not passed.\n",
      "None\n"
     ]
    }
   ],
   "source": [
    "print(marks_check(maths))\n",
    "\n",
    "print(marks_check(economics))\n",
    "\n",
    "print(marks_check(stats))"
   ]
  },
  {
   "cell_type": "code",
   "execution_count": 6,
   "metadata": {},
   "outputs": [
    {
     "name": "stdout",
     "output_type": "stream",
     "text": [
      "0\n",
      "1\n",
      "2\n",
      "3\n",
      "4\n",
      "5\n",
      "6\n",
      "7\n",
      "8\n",
      "9\n",
      "10\n"
     ]
    }
   ],
   "source": [
    "## Print all integers from 0-10\n",
    "\n",
    "# While loop\n",
    "i = 0\n",
    "while(i<=10):\n",
    "    print(i)\n",
    "    i += 1\n",
    "\n",
    "# For loop\n",
    "for i in range(0,11):\n",
    "    print(i)"
   ]
  },
  {
   "cell_type": "code",
   "execution_count": 22,
   "metadata": {},
   "outputs": [
    {
     "name": "stdout",
     "output_type": "stream",
     "text": [
      "2\n",
      "4\n",
      "6\n",
      "8\n",
      "10\n",
      "12\n",
      "14\n",
      "16\n",
      "18\n",
      "20\n",
      "22\n",
      "24\n",
      "26\n",
      "28\n",
      "30\n",
      "32\n",
      "34\n",
      "36\n",
      "38\n",
      "40\n",
      "42\n",
      "44\n",
      "46\n",
      "48\n",
      "50\n",
      "52\n",
      "54\n",
      "56\n",
      "58\n",
      "60\n",
      "62\n",
      "64\n",
      "66\n",
      "68\n",
      "70\n",
      "72\n",
      "74\n",
      "76\n",
      "78\n",
      "80\n",
      "82\n",
      "84\n",
      "86\n",
      "88\n",
      "90\n",
      "92\n",
      "94\n",
      "96\n",
      "98\n",
      "100\n"
     ]
    }
   ],
   "source": [
    "## Print of all even integers from 1-100\n",
    "\n",
    "# While loop\n",
    "i = 1\n",
    "while(i<=100):\n",
    "    if i%2 == 0:\n",
    "        print(i)\n",
    "    i += 1\n",
    "\n",
    "# For loop\n",
    "for i in range(1,101):\n",
    "    if i % 2 == 0:\n",
    "        print(i)"
   ]
  },
  {
   "cell_type": "code",
   "execution_count": 25,
   "metadata": {},
   "outputs": [
    {
     "name": "stdout",
     "output_type": "stream",
     "text": [
      "1\n",
      "2\n",
      "3\n",
      "4\n",
      "6\n",
      "7\n",
      "8\n",
      "9\n",
      "11\n",
      "12\n",
      "13\n",
      "14\n",
      "16\n",
      "17\n",
      "18\n",
      "19\n",
      "21\n",
      "22\n",
      "23\n",
      "24\n",
      "26\n",
      "27\n",
      "28\n",
      "29\n",
      "31\n",
      "32\n",
      "33\n",
      "34\n",
      "36\n",
      "37\n",
      "38\n",
      "39\n",
      "41\n",
      "42\n",
      "43\n",
      "44\n",
      "46\n",
      "47\n",
      "48\n",
      "49\n"
     ]
    }
   ],
   "source": [
    "## Print of all integers between which are not divisible by 5\n",
    "\n",
    "# While loop\n",
    "i = 0\n",
    "while(i <=50):\n",
    "    if i % 5 != 0:\n",
    "        print(i)\n",
    "    i += 1\n",
    "\n",
    "# For loop\n",
    "for i in range(1,51):\n",
    "    if i % 5 != 0:\n",
    "        print(i)"
   ]
  },
  {
   "cell_type": "code",
   "execution_count": 40,
   "metadata": {},
   "outputs": [
    {
     "name": "stdout",
     "output_type": "stream",
     "text": [
      "[]\n"
     ]
    }
   ],
   "source": [
    "## Print of all integers between 1-50 which are not perfect squares\n",
    "\n",
    "#While loop\n",
    "l1 = []\n",
    "l2 = []\n",
    "i = 1\n",
    "while (i <=50):\n",
    "    l1 = l1 + [i]\n",
    "    l2 = l2 + [i**2]\n",
    "    i += 1\n",
    "l11 = set(l1)\n",
    "l22 = set(l2)\n",
    "print(list(l11-l22))\n",
    "\n",
    "#For loop\n",
    "l1 = []\n",
    "l2 = []\n",
    "for i in range (1,51):\n",
    "    l1 = l1 + [i]\n",
    "    l2 = l2 + [i**2]\n",
    "l11 = set(l1)\n",
    "l22 = set(l2)\n",
    "print(list(l11-l22))"
   ]
  },
  {
   "cell_type": "code",
   "execution_count": 41,
   "metadata": {},
   "outputs": [
    {
     "name": "stdout",
     "output_type": "stream",
     "text": [
      "10\n",
      "20\n",
      "30\n",
      "40\n",
      "50\n",
      "60\n"
     ]
    }
   ],
   "source": [
    "# Break\n",
    "i = 0\n",
    "while(i<=100):\n",
    "    i += 10\n",
    "    if i == 70:\n",
    "        break\n",
    "    print(i)\n",
    "    \n",
    "i = 0\n",
    "while(i <=100):\n",
    "    i += 5\n",
    "    print(i)\n",
    "    if i == 75:\n",
    "        break  "
   ]
  },
  {
   "cell_type": "code",
   "execution_count": 2,
   "metadata": {},
   "outputs": [
    {
     "name": "stdout",
     "output_type": "stream",
     "text": [
      "5\n",
      "6\n",
      "7\n",
      "8\n",
      "9\n",
      "10\n"
     ]
    }
   ],
   "source": [
    "i = 0\n",
    "while i <= 10:\n",
    "    if i >= 5:\n",
    "        print(i)\n",
    "    i += 1"
   ]
  },
  {
   "cell_type": "code",
   "execution_count": 47,
   "metadata": {},
   "outputs": [
    {
     "name": "stdout",
     "output_type": "stream",
     "text": [
      "56\n",
      "63\n",
      "70\n",
      "77\n",
      "84\n",
      "91\n",
      "98\n"
     ]
    }
   ],
   "source": [
    "## Print all the multiples of 7 between 1-100 which are exclusively more than 50\n",
    "\n",
    "# While loop\n",
    "i = 1\n",
    "while (i <=100):\n",
    "    if i >=50:\n",
    "        if i % 7 == 0:\n",
    "            print(i)\n",
    "    i += 1\n",
    "\n",
    "# For loop\n",
    "for i in range(1,100):\n",
    "    if i >= 50:\n",
    "        if i % 7 == 0:\n",
    "            print(i)"
   ]
  },
  {
   "cell_type": "code",
   "execution_count": 15,
   "metadata": {},
   "outputs": [
    {
     "name": "stdout",
     "output_type": "stream",
     "text": [
      "0\n",
      "1\n",
      "2\n",
      "3\n",
      "4\n",
      "5\n",
      "6\n",
      "7\n",
      "8\n",
      "9\n",
      "10\n",
      "Output more than 10\n"
     ]
    }
   ],
   "source": [
    "while(i<=10):\n",
    "    print(i)\n",
    "    i+=1\n",
    "else:\n",
    "    print(\"Output more than 10\")"
   ]
  },
  {
   "cell_type": "code",
   "execution_count": 17,
   "metadata": {},
   "outputs": [
    {
     "name": "stdout",
     "output_type": "stream",
     "text": [
      "Hello\n"
     ]
    }
   ],
   "source": [
    "# Difference between if and while loops\n",
    "\n",
    "count = 0\n",
    "if count <= 5:\n",
    "    print(\"Hello\")\n",
    "    count += 1"
   ]
  },
  {
   "cell_type": "code",
   "execution_count": 21,
   "metadata": {},
   "outputs": [
    {
     "name": "stdout",
     "output_type": "stream",
     "text": [
      "1 : Hello\n",
      "2 : Hello\n",
      "3 : Hello\n",
      "4 : Hello\n",
      "5 : Hello\n"
     ]
    }
   ],
   "source": [
    "count = 1\n",
    "while(count<=5):\n",
    "    print(f\"{count} : Hello\")\n",
    "    count += 1"
   ]
  },
  {
   "cell_type": "code",
   "execution_count": 27,
   "metadata": {},
   "outputs": [
    {
     "name": "stdout",
     "output_type": "stream",
     "text": [
      "1 : Hello\n",
      "2 : Hello\n",
      "3 : Hello\n",
      "4 : Hello\n",
      "5 : Hello\n"
     ]
    }
   ],
   "source": [
    "lst = [1,2,3,4,5]\n",
    "for i in lst:\n",
    "    print(f\"{i} : Hello\")\n",
    "    i += 1"
   ]
  },
  {
   "cell_type": "code",
   "execution_count": 30,
   "metadata": {},
   "outputs": [
    {
     "name": "stdout",
     "output_type": "stream",
     "text": [
      "1 : Hello\n",
      "2 : Hello\n",
      "3 : Hello\n",
      "4 : Hello\n",
      "5 : Hello\n"
     ]
    }
   ],
   "source": [
    "for i in range(1,6):\n",
    "    print(f\"{i} : Hello\")\n",
    "    i += 1"
   ]
  },
  {
   "cell_type": "code",
   "execution_count": 51,
   "metadata": {},
   "outputs": [
    {
     "name": "stdout",
     "output_type": "stream",
     "text": [
      "Enter your password: hello@13\n",
      "Thank you\n"
     ]
    }
   ],
   "source": [
    "## Application of while loop\n",
    "password = \" \"\n",
    "while (password != \"hello@13\"):\n",
    "    password = input(\"Enter your password: \")\n",
    "    if password != \"hello@13\":\n",
    "        print(\"Wrong password!\\nRe-enter:\")\n",
    "print(\"Thank you\")"
   ]
  },
  {
   "cell_type": "code",
   "execution_count": 52,
   "metadata": {},
   "outputs": [
    {
     "name": "stdout",
     "output_type": "stream",
     "text": [
      "Enter your password: \n",
      "gg\n",
      "Wrong password !\n",
      "You have 2 more attempts left\n",
      "Enter your password: \n",
      "boozababy@fb13\n",
      "Thank you\n"
     ]
    }
   ],
   "source": [
    "password = \" \"\n",
    "while (True):\n",
    "    print(\"Enter your password: \")\n",
    "    password = input()\n",
    "    if (password == \"hello@13\"):\n",
    "        print(\"Thank you\")\n",
    "        break\n",
    "    print(\"Wrong password !\\nYou have 2 more attempts left\") "
   ]
  },
  {
   "cell_type": "code",
   "execution_count": 2,
   "metadata": {},
   "outputs": [
    {
     "name": "stdout",
     "output_type": "stream",
     "text": [
      "Enter your name\n",
      "hh\n",
      "Enter your name\n",
      "jj\n",
      "Enter your name\n",
      "Avishek\n",
      "Right name entered\n"
     ]
    }
   ],
   "source": [
    "name  = \" \"\n",
    "while(True):\n",
    "    print(\"Enter your name\")\n",
    "    name = input()\n",
    "    if (name == \"Avishek\"):\n",
    "        break\n",
    "print(\"Right name entered\")"
   ]
  },
  {
   "cell_type": "code",
   "execution_count": 53,
   "metadata": {},
   "outputs": [
    {
     "name": "stdout",
     "output_type": "stream",
     "text": [
      "Enter your name\n",
      "Avishek\n",
      "Enter the password\n",
      "jj\n",
      "Enter your name\n",
      "jj\n",
      "Enter your name\n",
      "Avishek\n",
      "Enter the password\n",
      "hello@13\n",
      "Access Granted after 2-factor authetication\n"
     ]
    }
   ],
   "source": [
    "while(True):\n",
    "    print(\"Enter your name\")\n",
    "    name = input()\n",
    "    if (name != \"Avishek\"):\n",
    "        continue\n",
    "    print(\"Enter the password\")\n",
    "    password = input()\n",
    "    if( password == \"hello@13\"):\n",
    "        break\n",
    "print(\"Access Granted after 2-factor authetication\")\n"
   ]
  },
  {
   "cell_type": "code",
   "execution_count": 2,
   "metadata": {},
   "outputs": [
    {
     "name": "stdout",
     "output_type": "stream",
     "text": [
      "1\n",
      "3\n",
      "5\n",
      "7\n",
      "9\n",
      "11\n",
      "13\n",
      "15\n",
      "17\n",
      "19\n"
     ]
    }
   ],
   "source": [
    "# FOR LOOP\n",
    "for i in range(1,20,2):\n",
    "    print(i)"
   ]
  },
  {
   "cell_type": "code",
   "execution_count": 3,
   "metadata": {},
   "outputs": [
    {
     "name": "stdout",
     "output_type": "stream",
     "text": [
      "1\n",
      "3\n",
      "5\n",
      "7\n",
      "9\n",
      "11\n",
      "13\n"
     ]
    }
   ],
   "source": [
    "for i in range(1,20,2):\n",
    "    if i == 15:\n",
    "        break\n",
    "    print(i)"
   ]
  },
  {
   "cell_type": "code",
   "execution_count": 8,
   "metadata": {},
   "outputs": [
    {
     "name": "stdout",
     "output_type": "stream",
     "text": [
      "1 A\n",
      "1 B\n",
      "1 C\n",
      "1 D\n",
      "2 A\n",
      "2 B\n",
      "2 C\n",
      "2 D\n"
     ]
    }
   ],
   "source": [
    "a = [1,2]\n",
    "b = [\"A\", \"B\", \"C\", \"D\"]\n",
    "\n",
    "for i in a:\n",
    "    for j in b:\n",
    "        print(i,j)"
   ]
  },
  {
   "cell_type": "code",
   "execution_count": 8,
   "metadata": {},
   "outputs": [
    {
     "name": "stdout",
     "output_type": "stream",
     "text": [
      "The sum of [1, 2, 3, 4, 5, 6, 7, 8, 9, 10] is 55\n"
     ]
    }
   ],
   "source": [
    "# Sum of first 10 natural numbers using both for and while loop\n",
    "\n",
    "s = 0\n",
    "s1 = [*range(1,11,1)]\n",
    "for i in s1:\n",
    "    s += i\n",
    "print(f\"The sum of {s1} is {s}\")"
   ]
  },
  {
   "cell_type": "code",
   "execution_count": 3,
   "metadata": {},
   "outputs": [
    {
     "name": "stdout",
     "output_type": "stream",
     "text": [
      "The sum of [1, 2, 3, 4, 5, 6, 7, 8, 9, 10] is 55\n",
      "Wall time: 0 ns\n"
     ]
    }
   ],
   "source": [
    "%%time\n",
    "i = 1\n",
    "s2 = 0\n",
    "s3 = [*range(1,11,1)]\n",
    "while(i <=10):\n",
    "    s2 += i\n",
    "    i += 1\n",
    "print(f\"The sum of {s3} is {s2}\")"
   ]
  },
  {
   "cell_type": "code",
   "execution_count": 9,
   "metadata": {},
   "outputs": [
    {
     "name": "stdout",
     "output_type": "stream",
     "text": [
      "1\n",
      "2\n",
      "3\n",
      "4\n",
      "6\n",
      "7\n",
      "8\n",
      "9\n",
      "10\n",
      "11\n",
      "12\n",
      "13\n",
      "14\n",
      "15\n",
      "16\n",
      "17\n",
      "18\n",
      "19\n"
     ]
    }
   ],
   "source": [
    "# CONTINUE and BREAK and PASS\n",
    "\n",
    "for i in range(1,20,1):\n",
    "    if i == 5:\n",
    "        continue\n",
    "    print(i)"
   ]
  },
  {
   "cell_type": "code",
   "execution_count": 10,
   "metadata": {},
   "outputs": [
    {
     "name": "stdout",
     "output_type": "stream",
     "text": [
      "1\n",
      "2\n",
      "3\n",
      "4\n"
     ]
    }
   ],
   "source": [
    "for i in range(1,20,1):\n",
    "    if i == 5:\n",
    "        break\n",
    "    print(i)"
   ]
  },
  {
   "cell_type": "code",
   "execution_count": 11,
   "metadata": {},
   "outputs": [
    {
     "name": "stdout",
     "output_type": "stream",
     "text": [
      "1\n",
      "2\n",
      "3\n",
      "4\n",
      "5\n",
      "6\n",
      "7\n",
      "8\n",
      "9\n",
      "10\n",
      "11\n",
      "12\n",
      "13\n",
      "14\n",
      "15\n",
      "16\n",
      "17\n",
      "18\n",
      "19\n"
     ]
    }
   ],
   "source": [
    "for i in range(1,20,1):\n",
    "    if i == 5:\n",
    "        pass\n",
    "    print(i)"
   ]
  },
  {
   "cell_type": "code",
   "execution_count": null,
   "metadata": {},
   "outputs": [],
   "source": []
  }
 ],
 "metadata": {
  "kernelspec": {
   "display_name": "Python 3",
   "language": "python",
   "name": "python3"
  },
  "language_info": {
   "codemirror_mode": {
    "name": "ipython",
    "version": 3
   },
   "file_extension": ".py",
   "mimetype": "text/x-python",
   "name": "python",
   "nbconvert_exporter": "python",
   "pygments_lexer": "ipython3",
   "version": "3.7.6"
  }
 },
 "nbformat": 4,
 "nbformat_minor": 4
}
